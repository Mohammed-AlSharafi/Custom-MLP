{
 "cells": [
  {
   "cell_type": "markdown",
   "metadata": {},
   "source": [
    "# My Neural Network"
   ]
  },
  {
   "cell_type": "markdown",
   "metadata": {},
   "source": [
    "\n",
    "## #Goal:\n",
    "- Create a multi-layer perceptron from scratch\n",
    "\n",
    "### - How to achieve goal?\n",
    "1. We need to create a framework (a micrograd replica) to track all the operations that take place and enable us to backpropagate through the entire process.\n",
    "2. Then we need to create a single neuron.\n",
    "3. After that we create a layer consisting of multiple neurons\n",
    "4. Finally, we connect multiple layers to create a multi-layer perceptron.\n",
    "\n",
    "### - Steps for a Single Neuron:\n",
    "\n",
    "1. **Input Features**: Input features (Xs) are fed into the neuron.\n",
    "2. **Weights**: Each feature is multiplied by a weight (Ws). Since we can't directly modify the input (X), we use the weight (W) to adjust it.\n",
    "3. **Summation**: The results of all Xs multiplied by their respective Ws are summed.\n",
    "4. **Activation Function**: We pass the sum through an activation function (e.g., `tanh`), which limits the output between -1 and 1.\n",
    "5. **Evaluation Function**: Finally, we use an evaluation function to assess the neuron's output.\n",
    "\n",
    "- Backpropagation can then be used to asses the value of each weight and the bias to the result of the evaluation function. Modifcations can then be done to minimize the loss given by the evaluation function.\n",
    "\n",
    "### - Steps for creating a layer of neurons:\n",
    "\n",
    "1. creating a list of neurons, each taking all the inputs provided to the layer.\n",
    "2. returning a list of results produced by each neuron.\n",
    "\n",
    "### - Steps for a Multi-Layer Perceptron:\n",
    "\n",
    "1. create a list of layers, with sizes that we wish for.\n",
    "2. connect each layer to the layer before it and make the output of each layer the input of the next.\n",
    "3. return the result produced by the MLP.\n",
    "\n",
    "## #Important concepts to note:\n",
    "\n",
    "### - What is Backpropagation?\n",
    "\n",
    "- **Backpropagation** is the process of finding the effect of each variable in a series of operations by calculating the derivative of that variable with respect to the final expression.\n",
    "\n",
    "### - What is the derevative of a function?\n",
    "\n",
    "- The derivative of a function at a given value represents the gradient of the tangent line touching the function at that point. By knowing the gradient, we can then know the direction where the function is moving, either up or down. We do that by adding a very small value to the variable we are trying to see it's value to the function. The value must approach zero (limits).\n",
    "\n",
    "- for example, let's say we are trying to find the derivative of h(x) with respect to x, aka find the value of change provided by variable x to the function. then we add a very small number that approaches 0. for demonstration purposes it will be 0.0001. Then we will subtract the value from x, so h(x-0.001). Now to see the effect we will subtract the original function from the equation to see the amount of difference. so h(x - 0.001) - h(x). the value will be so small so we will normalize it and divide it by the number that is approaching 0 (0.001 in our case). so (h(x - 0.001) - h(x)) / 0.001.\n",
    "\n",
    "now the result will show us by numbers the rate of change of the function given the modification of x."
   ]
  },
  {
   "cell_type": "markdown",
   "metadata": {},
   "source": [
    "## A Micrograd Replica Framework"
   ]
  },
  {
   "cell_type": "markdown",
   "metadata": {},
   "source": [
    "### Value class"
   ]
  },
  {
   "cell_type": "code",
   "execution_count": 12,
   "metadata": {},
   "outputs": [],
   "source": [
    "import math\n",
    "\n",
    "\n",
    "class Value:\n",
    "    def __init__(self, data, _childern=(), _op='', label='', grad = 0.0):\n",
    "        self.data = data\n",
    "        self.grad = grad\n",
    "        self._backward = lambda: None\n",
    "        self._prev = set(_childern)\n",
    "        self._op = _op\n",
    "        self.label = label\n",
    "        \n",
    "    def __repr__(self):\n",
    "        return f\"Value(data={self.data})\"\n",
    "    \n",
    "    def __add__(self, other):\n",
    "        other = Value(other) if not isinstance(other, Value) else other\n",
    "        out = Value(self.data + other.data, (self, other), '+')\n",
    "        \n",
    "        def _backward():\n",
    "            self.grad += 1.0 * out.grad\n",
    "            other.grad += 1.0 * out.grad\n",
    "            \n",
    "        out._backward = _backward\n",
    "        \n",
    "        return out\n",
    "    \n",
    "    def __radd__(self, other):\n",
    "        return self + other\n",
    "    \n",
    "    def __neg__(self):\n",
    "        return self * -1\n",
    "    \n",
    "    def __sub__(self, other):\n",
    "        return self + (-other)\n",
    "    \n",
    "    def __mul__(self, other):\n",
    "        other = Value(other) if not isinstance(other, Value) else other\n",
    "        out = Value(self.data * other.data,  (self, other), '*')\n",
    "        \n",
    "        def _backward():\n",
    "            self.grad += other.data * out.grad\n",
    "            other.grad += self.data * out.grad\n",
    "            \n",
    "        out._backward = _backward\n",
    "        \n",
    "        return out\n",
    "    \n",
    "    def __rmul__(self, other):\n",
    "        return self * other\n",
    "    \n",
    "    def __pow__(self, other):\n",
    "        assert isinstance(other, (int, float))\n",
    "        out = Value(self.data ** other, (self,), f'**{other}')\n",
    "        \n",
    "        def _backward():\n",
    "            self.grad += other * (self.data ** (other-1)) * out.grad\n",
    "        out._backward = _backward\n",
    "        return out\n",
    "    \n",
    "    def tanh(self):\n",
    "        x = self.data\n",
    "        t = (math.exp(2*x) -1)/(math.exp(2*x)+1)\n",
    "        out = Value(t, (self, ), 'tanh')\n",
    "        \n",
    "        def _backward():\n",
    "            self.grad += (1 - t ** 2) * out.grad\n",
    "        out._backward = _backward\n",
    "        return out\n",
    "    \n",
    "    def backward(self):\n",
    "        topo = []\n",
    "        visited = set()\n",
    "        def build_topo(v):\n",
    "            if v not in visited:\n",
    "                visited.add(v)\n",
    "                for child in v._prev:\n",
    "                    build_topo(child)\n",
    "            topo.append(v)\n",
    "        build_topo(self)\n",
    "            \n",
    "        self.grad = 1\n",
    "\n",
    "        topo.reverse()\n",
    "        for child in topo:\n",
    "            child._backward()\n",
    "        \n",
    "    "
   ]
  },
  {
   "cell_type": "markdown",
   "metadata": {},
   "source": [
    "### Function to visualize the operations going on:"
   ]
  },
  {
   "cell_type": "code",
   "execution_count": 13,
   "metadata": {},
   "outputs": [],
   "source": [
    "from graphviz import Digraph # type: ignore\n",
    "\n",
    "def trace(root):\n",
    "  # builds a set of all nodes and edges in a graph\n",
    "  nodes, edges = set(), set()\n",
    "  def build(v):\n",
    "    if v not in nodes:\n",
    "      nodes.add(v)\n",
    "      for child in v._prev:\n",
    "        edges.add((child, v))\n",
    "        build(child)\n",
    "  build(root)\n",
    "  return nodes, edges\n",
    "\n",
    "def draw_dot(root):\n",
    "  dot = Digraph(format='svg', graph_attr={'rankdir': 'LR'}) # LR = left to right\n",
    "  \n",
    "  nodes, edges = trace(root)\n",
    "  for n in nodes:\n",
    "    uid = str(id(n))\n",
    "    # for any value in the graph, create a rectangular ('record') node for it\n",
    "    dot.node(name = uid, label = \"{ %s | data %.4f | grad %.4f }\" % (n.label, n.data, n.grad ), shape='record')\n",
    "    if n._op:\n",
    "      # if this value is a result of some operation, create an op node for it\n",
    "      dot.node(name = uid + n._op, label = n._op)\n",
    "      # and connect this node to it\n",
    "      dot.edge(uid + n._op, uid)\n",
    "\n",
    "  for n1, n2 in edges:\n",
    "    # connect n1 to the op node of n2\n",
    "    dot.edge(str(id(n1)), str(id(n2)) + n2._op)\n",
    "\n",
    "  return dot"
   ]
  },
  {
   "cell_type": "markdown",
   "metadata": {},
   "source": [
    "### Testing the framework"
   ]
  },
  {
   "cell_type": "markdown",
   "metadata": {},
   "source": [
    "#### Creating a test neuron replica for testing purposes"
   ]
  },
  {
   "cell_type": "code",
   "execution_count": null,
   "metadata": {},
   "outputs": [],
   "source": [
    "x1 = Value(0.6, label='x1')\n",
    "w1 = Value(0.3, label='w1')\n",
    "x2 = Value(1.0, label='x2')\n",
    "w2 = Value(0, label='w2')\n",
    "x1w1 = x1*w1\n",
    "x1w1.label = 'x1w1'\n",
    "x2w2 = x2*w2\n",
    "x2w2.label = 'x2w2'\n",
    "x1w1x2w2 = x1w1+x2w2\n",
    "x1w1x2w2.label = 'x1w1 + x2w2'\n",
    "\n",
    "b = Value(2.1, label='b')\n",
    "\n",
    "total = x1w1x2w2 + b\n",
    "total.label = 'sum'\n",
    "\n",
    "act = total.tanh()\n",
    "act.label = 'act'"
   ]
  },
  {
   "cell_type": "code",
   "execution_count": null,
   "metadata": {},
   "outputs": [
    {
     "data": {
      "image/svg+xml": [
       "<?xml version=\"1.0\" encoding=\"UTF-8\" standalone=\"no\"?>\n",
       "<!DOCTYPE svg PUBLIC \"-//W3C//DTD SVG 1.1//EN\"\n",
       " \"http://www.w3.org/Graphics/SVG/1.1/DTD/svg11.dtd\">\n",
       "<!-- Generated by graphviz version 9.0.0 (20230911.1827)\n",
       " -->\n",
       "<!-- Pages: 1 -->\n",
       "<svg width=\"1558pt\" height=\"210pt\"\n",
       " viewBox=\"0.00 0.00 1558.25 210.00\" xmlns=\"http://www.w3.org/2000/svg\" xmlns:xlink=\"http://www.w3.org/1999/xlink\">\n",
       "<g id=\"graph0\" class=\"graph\" transform=\"scale(1 1) rotate(0) translate(4 206)\">\n",
       "<polygon fill=\"white\" stroke=\"none\" points=\"-4,4 -4,-206 1554.25,-206 1554.25,4 -4,4\"/>\n",
       "<!-- 140698189258752 -->\n",
       "<g id=\"node1\" class=\"node\">\n",
       "<title>140698189258752</title>\n",
       "<polygon fill=\"none\" stroke=\"black\" points=\"1031.25,-54.5 1031.25,-90.5 1231.5,-90.5 1231.5,-54.5 1031.25,-54.5\"/>\n",
       "<text text-anchor=\"middle\" x=\"1050.88\" y=\"-67.7\" font-family=\"Times,serif\" font-size=\"14.00\">sum</text>\n",
       "<polyline fill=\"none\" stroke=\"black\" points=\"1070.5,-55 1070.5,-90.5\"/>\n",
       "<text text-anchor=\"middle\" x=\"1110.38\" y=\"-67.7\" font-family=\"Times,serif\" font-size=\"14.00\">data 2.2800</text>\n",
       "<polyline fill=\"none\" stroke=\"black\" points=\"1150.25,-55 1150.25,-90.5\"/>\n",
       "<text text-anchor=\"middle\" x=\"1190.88\" y=\"-67.7\" font-family=\"Times,serif\" font-size=\"14.00\">grad 0.0000</text>\n",
       "</g>\n",
       "<!-- 140698189259280tanh -->\n",
       "<g id=\"node4\" class=\"node\">\n",
       "<title>140698189259280tanh</title>\n",
       "<ellipse fill=\"none\" stroke=\"black\" cx=\"1294.5\" cy=\"-72.5\" rx=\"27\" ry=\"18\"/>\n",
       "<text text-anchor=\"middle\" x=\"1294.5\" y=\"-67.45\" font-family=\"Times,serif\" font-size=\"14.00\">tanh</text>\n",
       "</g>\n",
       "<!-- 140698189258752&#45;&gt;140698189259280tanh -->\n",
       "<g id=\"edge7\" class=\"edge\">\n",
       "<title>140698189258752&#45;&gt;140698189259280tanh</title>\n",
       "<path fill=\"none\" stroke=\"black\" d=\"M1231.67,-72.5C1240.06,-72.5 1248.18,-72.5 1255.61,-72.5\"/>\n",
       "<polygon fill=\"black\" stroke=\"black\" points=\"1255.52,-76 1265.52,-72.5 1255.52,-69 1255.52,-76\"/>\n",
       "</g>\n",
       "<!-- 140698189258752+ -->\n",
       "<g id=\"node2\" class=\"node\">\n",
       "<title>140698189258752+</title>\n",
       "<ellipse fill=\"none\" stroke=\"black\" cx=\"968.25\" cy=\"-72.5\" rx=\"27\" ry=\"18\"/>\n",
       "<text text-anchor=\"middle\" x=\"968.25\" y=\"-67.45\" font-family=\"Times,serif\" font-size=\"14.00\">+</text>\n",
       "</g>\n",
       "<!-- 140698189258752+&#45;&gt;140698189258752 -->\n",
       "<g id=\"edge1\" class=\"edge\">\n",
       "<title>140698189258752+&#45;&gt;140698189258752</title>\n",
       "<path fill=\"none\" stroke=\"black\" d=\"M995.5,-72.5C1002.64,-72.5 1010.86,-72.5 1019.63,-72.5\"/>\n",
       "<polygon fill=\"black\" stroke=\"black\" points=\"1019.49,-76 1029.49,-72.5 1019.49,-69 1019.49,-76\"/>\n",
       "</g>\n",
       "<!-- 140698189259280 -->\n",
       "<g id=\"node3\" class=\"node\">\n",
       "<title>140698189259280</title>\n",
       "<polygon fill=\"none\" stroke=\"black\" points=\"1357.5,-54.5 1357.5,-90.5 1550.25,-90.5 1550.25,-54.5 1357.5,-54.5\"/>\n",
       "<text text-anchor=\"middle\" x=\"1373.38\" y=\"-67.7\" font-family=\"Times,serif\" font-size=\"14.00\">act</text>\n",
       "<polyline fill=\"none\" stroke=\"black\" points=\"1389.25,-55 1389.25,-90.5\"/>\n",
       "<text text-anchor=\"middle\" x=\"1429.12\" y=\"-67.7\" font-family=\"Times,serif\" font-size=\"14.00\">data 0.9793</text>\n",
       "<polyline fill=\"none\" stroke=\"black\" points=\"1469,-55 1469,-90.5\"/>\n",
       "<text text-anchor=\"middle\" x=\"1509.62\" y=\"-67.7\" font-family=\"Times,serif\" font-size=\"14.00\">grad 0.0000</text>\n",
       "</g>\n",
       "<!-- 140698189259280tanh&#45;&gt;140698189259280 -->\n",
       "<g id=\"edge2\" class=\"edge\">\n",
       "<title>140698189259280tanh&#45;&gt;140698189259280</title>\n",
       "<path fill=\"none\" stroke=\"black\" d=\"M1321.84,-72.5C1328.98,-72.5 1337.17,-72.5 1345.89,-72.5\"/>\n",
       "<polygon fill=\"black\" stroke=\"black\" points=\"1345.67,-76 1355.67,-72.5 1345.67,-69 1345.67,-76\"/>\n",
       "</g>\n",
       "<!-- 140698169972768 -->\n",
       "<g id=\"node5\" class=\"node\">\n",
       "<title>140698169972768</title>\n",
       "<polygon fill=\"none\" stroke=\"black\" points=\"1.5,-165.5 1.5,-201.5 192,-201.5 192,-165.5 1.5,-165.5\"/>\n",
       "<text text-anchor=\"middle\" x=\"16.25\" y=\"-178.7\" font-family=\"Times,serif\" font-size=\"14.00\">x1</text>\n",
       "<polyline fill=\"none\" stroke=\"black\" points=\"31,-166 31,-201.5\"/>\n",
       "<text text-anchor=\"middle\" x=\"70.88\" y=\"-178.7\" font-family=\"Times,serif\" font-size=\"14.00\">data 0.6000</text>\n",
       "<polyline fill=\"none\" stroke=\"black\" points=\"110.75,-166 110.75,-201.5\"/>\n",
       "<text text-anchor=\"middle\" x=\"151.38\" y=\"-178.7\" font-family=\"Times,serif\" font-size=\"14.00\">grad 0.0000</text>\n",
       "</g>\n",
       "<!-- 140698169971856* -->\n",
       "<g id=\"node10\" class=\"node\">\n",
       "<title>140698169971856*</title>\n",
       "<ellipse fill=\"none\" stroke=\"black\" cx=\"256.5\" cy=\"-128.5\" rx=\"27\" ry=\"18\"/>\n",
       "<text text-anchor=\"middle\" x=\"256.5\" y=\"-123.45\" font-family=\"Times,serif\" font-size=\"14.00\">*</text>\n",
       "</g>\n",
       "<!-- 140698169972768&#45;&gt;140698169971856* -->\n",
       "<g id=\"edge6\" class=\"edge\">\n",
       "<title>140698169972768&#45;&gt;140698169971856*</title>\n",
       "<path fill=\"none\" stroke=\"black\" d=\"M167.95,-165.01C176.62,-162.35 185.31,-159.49 193.5,-156.5 203.5,-152.86 214.14,-148.31 223.73,-143.95\"/>\n",
       "<polygon fill=\"black\" stroke=\"black\" points=\"225.06,-147.19 232.65,-139.79 222.11,-140.84 225.06,-147.19\"/>\n",
       "</g>\n",
       "<!-- 140698169974832 -->\n",
       "<g id=\"node6\" class=\"node\">\n",
       "<title>140698169974832</title>\n",
       "<polygon fill=\"none\" stroke=\"black\" points=\"652.5,-82.5 652.5,-118.5 905.25,-118.5 905.25,-82.5 652.5,-82.5\"/>\n",
       "<text text-anchor=\"middle\" x=\"698.38\" y=\"-95.7\" font-family=\"Times,serif\" font-size=\"14.00\">x1w1 + x2w2</text>\n",
       "<polyline fill=\"none\" stroke=\"black\" points=\"744.25,-83 744.25,-118.5\"/>\n",
       "<text text-anchor=\"middle\" x=\"784.12\" y=\"-95.7\" font-family=\"Times,serif\" font-size=\"14.00\">data 0.1800</text>\n",
       "<polyline fill=\"none\" stroke=\"black\" points=\"824,-83 824,-118.5\"/>\n",
       "<text text-anchor=\"middle\" x=\"864.62\" y=\"-95.7\" font-family=\"Times,serif\" font-size=\"14.00\">grad 0.0000</text>\n",
       "</g>\n",
       "<!-- 140698169974832&#45;&gt;140698189258752+ -->\n",
       "<g id=\"edge12\" class=\"edge\">\n",
       "<title>140698169974832&#45;&gt;140698189258752+</title>\n",
       "<path fill=\"none\" stroke=\"black\" d=\"M903.55,-82.02C913.1,-80.59 922.17,-79.24 930.33,-78.02\"/>\n",
       "<polygon fill=\"black\" stroke=\"black\" points=\"930.7,-81.5 940.07,-76.56 929.67,-74.58 930.7,-81.5\"/>\n",
       "</g>\n",
       "<!-- 140698169974832+ -->\n",
       "<g id=\"node7\" class=\"node\">\n",
       "<title>140698169974832+</title>\n",
       "<ellipse fill=\"none\" stroke=\"black\" cx=\"589.5\" cy=\"-100.5\" rx=\"27\" ry=\"18\"/>\n",
       "<text text-anchor=\"middle\" x=\"589.5\" y=\"-95.45\" font-family=\"Times,serif\" font-size=\"14.00\">+</text>\n",
       "</g>\n",
       "<!-- 140698169974832+&#45;&gt;140698169974832 -->\n",
       "<g id=\"edge3\" class=\"edge\">\n",
       "<title>140698169974832+&#45;&gt;140698169974832</title>\n",
       "<path fill=\"none\" stroke=\"black\" d=\"M616.95,-100.5C623.97,-100.5 632.06,-100.5 640.79,-100.5\"/>\n",
       "<polygon fill=\"black\" stroke=\"black\" points=\"640.65,-104 650.65,-100.5 640.65,-97 640.65,-104\"/>\n",
       "</g>\n",
       "<!-- 140698169968256 -->\n",
       "<g id=\"node8\" class=\"node\">\n",
       "<title>140698169968256</title>\n",
       "<polygon fill=\"none\" stroke=\"black\" points=\"1.5,-55.5 1.5,-91.5 192,-91.5 192,-55.5 1.5,-55.5\"/>\n",
       "<text text-anchor=\"middle\" x=\"16.25\" y=\"-68.7\" font-family=\"Times,serif\" font-size=\"14.00\">x2</text>\n",
       "<polyline fill=\"none\" stroke=\"black\" points=\"31,-56 31,-91.5\"/>\n",
       "<text text-anchor=\"middle\" x=\"70.88\" y=\"-68.7\" font-family=\"Times,serif\" font-size=\"14.00\">data 1.0000</text>\n",
       "<polyline fill=\"none\" stroke=\"black\" points=\"110.75,-56 110.75,-91.5\"/>\n",
       "<text text-anchor=\"middle\" x=\"151.38\" y=\"-68.7\" font-family=\"Times,serif\" font-size=\"14.00\">grad 0.0000</text>\n",
       "</g>\n",
       "<!-- 140698169968928* -->\n",
       "<g id=\"node14\" class=\"node\">\n",
       "<title>140698169968928*</title>\n",
       "<ellipse fill=\"none\" stroke=\"black\" cx=\"256.5\" cy=\"-73.5\" rx=\"27\" ry=\"18\"/>\n",
       "<text text-anchor=\"middle\" x=\"256.5\" y=\"-68.45\" font-family=\"Times,serif\" font-size=\"14.00\">*</text>\n",
       "</g>\n",
       "<!-- 140698169968256&#45;&gt;140698169968928* -->\n",
       "<g id=\"edge8\" class=\"edge\">\n",
       "<title>140698169968256&#45;&gt;140698169968928*</title>\n",
       "<path fill=\"none\" stroke=\"black\" d=\"M192.25,-73.5C201.22,-73.5 209.92,-73.5 217.84,-73.5\"/>\n",
       "<polygon fill=\"black\" stroke=\"black\" points=\"217.7,-77 227.7,-73.5 217.7,-70 217.7,-77\"/>\n",
       "</g>\n",
       "<!-- 140698169971856 -->\n",
       "<g id=\"node9\" class=\"node\">\n",
       "<title>140698169971856</title>\n",
       "<polygon fill=\"none\" stroke=\"black\" points=\"319.5,-110.5 319.5,-146.5 526.5,-146.5 526.5,-110.5 319.5,-110.5\"/>\n",
       "<text text-anchor=\"middle\" x=\"342.5\" y=\"-123.7\" font-family=\"Times,serif\" font-size=\"14.00\">x1w1</text>\n",
       "<polyline fill=\"none\" stroke=\"black\" points=\"365.5,-111 365.5,-146.5\"/>\n",
       "<text text-anchor=\"middle\" x=\"405.38\" y=\"-123.7\" font-family=\"Times,serif\" font-size=\"14.00\">data 0.1800</text>\n",
       "<polyline fill=\"none\" stroke=\"black\" points=\"445.25,-111 445.25,-146.5\"/>\n",
       "<text text-anchor=\"middle\" x=\"485.88\" y=\"-123.7\" font-family=\"Times,serif\" font-size=\"14.00\">grad 0.0000</text>\n",
       "</g>\n",
       "<!-- 140698169971856&#45;&gt;140698169974832+ -->\n",
       "<g id=\"edge10\" class=\"edge\">\n",
       "<title>140698169971856&#45;&gt;140698169974832+</title>\n",
       "<path fill=\"none\" stroke=\"black\" d=\"M526.78,-111.01C535.66,-109.49 544.21,-108.04 551.96,-106.72\"/>\n",
       "<polygon fill=\"black\" stroke=\"black\" points=\"552.29,-110.21 561.56,-105.09 551.11,-103.31 552.29,-110.21\"/>\n",
       "</g>\n",
       "<!-- 140698169971856*&#45;&gt;140698169971856 -->\n",
       "<g id=\"edge4\" class=\"edge\">\n",
       "<title>140698169971856*&#45;&gt;140698169971856</title>\n",
       "<path fill=\"none\" stroke=\"black\" d=\"M283.93,-128.5C291.02,-128.5 299.15,-128.5 307.85,-128.5\"/>\n",
       "<polygon fill=\"black\" stroke=\"black\" points=\"307.62,-132 317.62,-128.5 307.62,-125 307.62,-132\"/>\n",
       "</g>\n",
       "<!-- 140698169978000 -->\n",
       "<g id=\"node11\" class=\"node\">\n",
       "<title>140698169978000</title>\n",
       "<polygon fill=\"none\" stroke=\"black\" points=\"0,-0.5 0,-36.5 193.5,-36.5 193.5,-0.5 0,-0.5\"/>\n",
       "<text text-anchor=\"middle\" x=\"16.25\" y=\"-13.7\" font-family=\"Times,serif\" font-size=\"14.00\">w2</text>\n",
       "<polyline fill=\"none\" stroke=\"black\" points=\"32.5,-1 32.5,-36.5\"/>\n",
       "<text text-anchor=\"middle\" x=\"72.38\" y=\"-13.7\" font-family=\"Times,serif\" font-size=\"14.00\">data 0.0000</text>\n",
       "<polyline fill=\"none\" stroke=\"black\" points=\"112.25,-1 112.25,-36.5\"/>\n",
       "<text text-anchor=\"middle\" x=\"152.88\" y=\"-13.7\" font-family=\"Times,serif\" font-size=\"14.00\">grad 0.0000</text>\n",
       "</g>\n",
       "<!-- 140698169978000&#45;&gt;140698169968928* -->\n",
       "<g id=\"edge13\" class=\"edge\">\n",
       "<title>140698169978000&#45;&gt;140698169968928*</title>\n",
       "<path fill=\"none\" stroke=\"black\" d=\"M167.95,-36.99C176.62,-39.65 185.31,-42.51 193.5,-45.5 203.5,-49.14 214.14,-53.69 223.73,-58.05\"/>\n",
       "<polygon fill=\"black\" stroke=\"black\" points=\"222.11,-61.16 232.65,-62.21 225.06,-54.81 222.11,-61.16\"/>\n",
       "</g>\n",
       "<!-- 140698169967296 -->\n",
       "<g id=\"node12\" class=\"node\">\n",
       "<title>140698169967296</title>\n",
       "<polygon fill=\"none\" stroke=\"black\" points=\"0,-110.5 0,-146.5 193.5,-146.5 193.5,-110.5 0,-110.5\"/>\n",
       "<text text-anchor=\"middle\" x=\"16.25\" y=\"-123.7\" font-family=\"Times,serif\" font-size=\"14.00\">w1</text>\n",
       "<polyline fill=\"none\" stroke=\"black\" points=\"32.5,-111 32.5,-146.5\"/>\n",
       "<text text-anchor=\"middle\" x=\"72.38\" y=\"-123.7\" font-family=\"Times,serif\" font-size=\"14.00\">data 0.3000</text>\n",
       "<polyline fill=\"none\" stroke=\"black\" points=\"112.25,-111 112.25,-146.5\"/>\n",
       "<text text-anchor=\"middle\" x=\"152.88\" y=\"-123.7\" font-family=\"Times,serif\" font-size=\"14.00\">grad 0.0000</text>\n",
       "</g>\n",
       "<!-- 140698169967296&#45;&gt;140698169971856* -->\n",
       "<g id=\"edge14\" class=\"edge\">\n",
       "<title>140698169967296&#45;&gt;140698169971856*</title>\n",
       "<path fill=\"none\" stroke=\"black\" d=\"M193.61,-128.5C202.06,-128.5 210.23,-128.5 217.73,-128.5\"/>\n",
       "<polygon fill=\"black\" stroke=\"black\" points=\"217.73,-132 227.73,-128.5 217.73,-125 217.73,-132\"/>\n",
       "</g>\n",
       "<!-- 140698169968928 -->\n",
       "<g id=\"node13\" class=\"node\">\n",
       "<title>140698169968928</title>\n",
       "<polygon fill=\"none\" stroke=\"black\" points=\"319.5,-55.5 319.5,-91.5 526.5,-91.5 526.5,-55.5 319.5,-55.5\"/>\n",
       "<text text-anchor=\"middle\" x=\"342.5\" y=\"-68.7\" font-family=\"Times,serif\" font-size=\"14.00\">x2w2</text>\n",
       "<polyline fill=\"none\" stroke=\"black\" points=\"365.5,-56 365.5,-91.5\"/>\n",
       "<text text-anchor=\"middle\" x=\"405.38\" y=\"-68.7\" font-family=\"Times,serif\" font-size=\"14.00\">data 0.0000</text>\n",
       "<polyline fill=\"none\" stroke=\"black\" points=\"445.25,-56 445.25,-91.5\"/>\n",
       "<text text-anchor=\"middle\" x=\"485.88\" y=\"-68.7\" font-family=\"Times,serif\" font-size=\"14.00\">grad 0.0000</text>\n",
       "</g>\n",
       "<!-- 140698169968928&#45;&gt;140698169974832+ -->\n",
       "<g id=\"edge9\" class=\"edge\">\n",
       "<title>140698169968928&#45;&gt;140698169974832+</title>\n",
       "<path fill=\"none\" stroke=\"black\" d=\"M526.78,-90.37C535.47,-91.8 543.84,-93.17 551.46,-94.42\"/>\n",
       "<polygon fill=\"black\" stroke=\"black\" points=\"550.82,-97.86 561.26,-96.03 551.95,-90.95 550.82,-97.86\"/>\n",
       "</g>\n",
       "<!-- 140698169968928*&#45;&gt;140698169968928 -->\n",
       "<g id=\"edge5\" class=\"edge\">\n",
       "<title>140698169968928*&#45;&gt;140698169968928</title>\n",
       "<path fill=\"none\" stroke=\"black\" d=\"M283.93,-73.5C291.02,-73.5 299.15,-73.5 307.85,-73.5\"/>\n",
       "<polygon fill=\"black\" stroke=\"black\" points=\"307.62,-77 317.62,-73.5 307.62,-70 307.62,-77\"/>\n",
       "</g>\n",
       "<!-- 140698169982800 -->\n",
       "<g id=\"node15\" class=\"node\">\n",
       "<title>140698169982800</title>\n",
       "<polygon fill=\"none\" stroke=\"black\" points=\"687,-27.5 687,-63.5 870.75,-63.5 870.75,-27.5 687,-27.5\"/>\n",
       "<text text-anchor=\"middle\" x=\"698.38\" y=\"-40.7\" font-family=\"Times,serif\" font-size=\"14.00\">b</text>\n",
       "<polyline fill=\"none\" stroke=\"black\" points=\"709.75,-28 709.75,-63.5\"/>\n",
       "<text text-anchor=\"middle\" x=\"749.62\" y=\"-40.7\" font-family=\"Times,serif\" font-size=\"14.00\">data 2.1000</text>\n",
       "<polyline fill=\"none\" stroke=\"black\" points=\"789.5,-28 789.5,-63.5\"/>\n",
       "<text text-anchor=\"middle\" x=\"830.12\" y=\"-40.7\" font-family=\"Times,serif\" font-size=\"14.00\">grad 0.0000</text>\n",
       "</g>\n",
       "<!-- 140698169982800&#45;&gt;140698189258752+ -->\n",
       "<g id=\"edge11\" class=\"edge\">\n",
       "<title>140698169982800&#45;&gt;140698189258752+</title>\n",
       "<path fill=\"none\" stroke=\"black\" d=\"M871.09,-58.64C892.11,-61.67 913.3,-64.73 930.42,-67.19\"/>\n",
       "<polygon fill=\"black\" stroke=\"black\" points=\"929.67,-70.62 940.07,-68.58 930.67,-63.69 929.67,-70.62\"/>\n",
       "</g>\n",
       "</g>\n",
       "</svg>\n"
      ],
      "text/plain": [
       "<graphviz.graphs.Digraph at 0x7ff6e7d546e0>"
      ]
     },
     "execution_count": 501,
     "metadata": {},
     "output_type": "execute_result"
    }
   ],
   "source": [
    "draw_dot(act)"
   ]
  },
  {
   "cell_type": "code",
   "execution_count": 14,
   "metadata": {},
   "outputs": [
    {
     "ename": "NameError",
     "evalue": "name 'act' is not defined",
     "output_type": "error",
     "traceback": [
      "\u001b[0;31m---------------------------------------------------------------------------\u001b[0m",
      "\u001b[0;31mNameError\u001b[0m                                 Traceback (most recent call last)",
      "Cell \u001b[0;32mIn[14], line 1\u001b[0m\n\u001b[0;32m----> 1\u001b[0m \u001b[43mact\u001b[49m\u001b[38;5;241m.\u001b[39mbackward()\n",
      "\u001b[0;31mNameError\u001b[0m: name 'act' is not defined"
     ]
    }
   ],
   "source": [
    "act.backward()"
   ]
  },
  {
   "cell_type": "markdown",
   "metadata": {},
   "source": [
    "### Achieving same result with pytorch"
   ]
  },
  {
   "cell_type": "code",
   "execution_count": 194,
   "metadata": {},
   "outputs": [
    {
     "name": "stdout",
     "output_type": "stream",
     "text": [
      "0.9792925216153839\n",
      "----\n",
      "x1 0.012295847621047903\n",
      "w1 0.024591695242095805\n",
      "x2 0.0\n",
      "w2 0.040986157108182784\n"
     ]
    }
   ],
   "source": [
    "import torch\n",
    "\n",
    "x1 = torch.Tensor([0.6]).double()       ; x1.requires_grad = True\n",
    "w1 = torch.Tensor([0.3]).double()       ; w1.requires_grad = True\n",
    "x2 = torch.Tensor([1.0]).double()       ; x2.requires_grad = True\n",
    "w2 = torch.Tensor([0.0]). double()      ; w2.requires_grad = True\n",
    "b = torch.Tensor([2.1]).double()\n",
    "\n",
    "total = (x1*w1) + (x2*w2) + b\n",
    "act = torch.tanh(total)\n",
    "\n",
    "print(act.data.item())\n",
    "act.backward()\n",
    "\n",
    "print('----')\n",
    "print('x1', x1.grad.item())\n",
    "print('w1', w1.grad.item())\n",
    "print('x2', x2.grad.item())\n",
    "print('w2', w2.grad.item())"
   ]
  },
  {
   "cell_type": "markdown",
   "metadata": {},
   "source": [
    "## Creating a single Neuron"
   ]
  },
  {
   "cell_type": "code",
   "execution_count": 15,
   "metadata": {},
   "outputs": [],
   "source": [
    "import random\n",
    "\n",
    "class Neuron:\n",
    "    def __init__(self, nin):\n",
    "        self.w = [Value(random.uniform(-1,1)) for _ in range(nin)]\n",
    "        self.b = Value(random.uniform(-1,1))\n",
    "        \n",
    "    def parameters(self):\n",
    "        return [self.b] + self.w\n",
    "        \n",
    "    def __call__(self, x):\n",
    "        act = sum((wi * xi for wi, xi in zip(self.w, x)), self.b)\n",
    "        out = act.tanh()\n",
    "        return out\n",
    "        \n",
    "        "
   ]
  },
  {
   "cell_type": "markdown",
   "metadata": {},
   "source": [
    "### Testing the neuron:"
   ]
  },
  {
   "cell_type": "code",
   "execution_count": 16,
   "metadata": {},
   "outputs": [
    {
     "name": "stdout",
     "output_type": "stream",
     "text": [
      "Value(data=0.9935935114421333)\n"
     ]
    }
   ],
   "source": [
    "x = [Value(1.2), Value(3.4), Value(0.5)]\n",
    "n = Neuron(3)\n",
    "result = n(x)\n",
    "print(result)"
   ]
  },
  {
   "cell_type": "markdown",
   "metadata": {},
   "source": [
    "## Creating a single layer of Neurons"
   ]
  },
  {
   "cell_type": "code",
   "execution_count": 17,
   "metadata": {},
   "outputs": [],
   "source": [
    "class Layer:\n",
    "    def __init__(self, nin, nout):\n",
    "        self.neurons = [Neuron(nin) for _ in range(nout)]\n",
    "        \n",
    "    def parameters(self):\n",
    "        return [p for neuron in self.neurons for p in neuron.parameters()]\n",
    "        \n",
    "    def __call__(self, x):\n",
    "        outs = [neuron(x) for neuron in self.neurons]\n",
    "        return outs[0] if len(outs) == 1 else outs"
   ]
  },
  {
   "cell_type": "markdown",
   "metadata": {},
   "source": [
    "### Testing the layer:"
   ]
  },
  {
   "cell_type": "code",
   "execution_count": 18,
   "metadata": {},
   "outputs": [
    {
     "data": {
      "text/plain": [
       "[Value(data=-0.9952997109715841),\n",
       " Value(data=0.26941359386062397),\n",
       " Value(data=0.9172688652413843),\n",
       " Value(data=0.8749725291022923)]"
      ]
     },
     "execution_count": 18,
     "metadata": {},
     "output_type": "execute_result"
    }
   ],
   "source": [
    "x = [Value(1.2), Value(3.4), Value(0.5)]\n",
    "l = Layer(3, 4)\n",
    "l(x)"
   ]
  },
  {
   "cell_type": "markdown",
   "metadata": {},
   "source": [
    "## Creating a Multi-layer Perceptron"
   ]
  },
  {
   "cell_type": "code",
   "execution_count": 19,
   "metadata": {},
   "outputs": [],
   "source": [
    "class MLP:\n",
    "    def __init__(self, nin, nouts):\n",
    "        size = [nin] + nouts\n",
    "        self.layers = [Layer(size[i], size[i+1]) for i in range(len(nouts))]\n",
    "        \n",
    "    def parameters(self):\n",
    "        return [p for layer in self.layers for p in layer.parameters()]\n",
    "        \n",
    "    def __call__(self, x):\n",
    "        for layer in self.layers:\n",
    "            x = layer(x)\n",
    "        return x"
   ]
  },
  {
   "cell_type": "markdown",
   "metadata": {},
   "source": [
    "### Testing the MLP:"
   ]
  },
  {
   "cell_type": "code",
   "execution_count": 20,
   "metadata": {},
   "outputs": [
    {
     "data": {
      "text/plain": [
       "Value(data=0.5264589483590738)"
      ]
     },
     "execution_count": 20,
     "metadata": {},
     "output_type": "execute_result"
    }
   ],
   "source": [
    "x = [Value(1.2), Value(3.4), Value(0.5)]\n",
    "\n",
    "m = MLP(3, [4, 4, 1])\n",
    "\n",
    "m(x)"
   ]
  },
  {
   "cell_type": "markdown",
   "metadata": {},
   "source": [
    "## Using the MLP"
   ]
  },
  {
   "cell_type": "code",
   "execution_count": 21,
   "metadata": {},
   "outputs": [],
   "source": [
    "xs = [                          #testing dataset\n",
    "    [5, 1.5, 7.3],\n",
    "    [6, 1.4, 5.1],\n",
    "    [1.2, 0.5, 0.1],\n",
    "    [1.3, 2.5, 0.9]\n",
    "]\n",
    "\n",
    "targetOuts = [1, 1, -1, -1]     #target variables"
   ]
  },
  {
   "cell_type": "code",
   "execution_count": 22,
   "metadata": {},
   "outputs": [
    {
     "name": "stdout",
     "output_type": "stream",
     "text": [
      "0 4.8194129191935495\n",
      "1 6.465747477894737\n",
      "2 2.600032064079603\n",
      "3 4.61078884506443\n",
      "4 4.617445642530064\n",
      "5 7.264696015483009\n",
      "6 5.772707964825717\n",
      "7 3.9169842943749082\n",
      "8 4.716339417573188\n",
      "9 5.95476764169933\n",
      "10 3.5195969758811545\n",
      "11 2.0296283235480623\n",
      "12 0.031688150720115695\n",
      "13 0.025450429317352797\n",
      "14 0.021279948608569223\n",
      "15 0.018288218434751563\n",
      "16 0.01608100875538813\n",
      "17 0.01440441192652405\n",
      "18 0.01307699744561295\n",
      "19 0.011985851810839079\n",
      "20 0.011051535667722052\n",
      "21 0.010255876529483395\n",
      "22 0.00958220221252665\n",
      "23 0.008993617064810371\n",
      "24 0.008467760336172147\n",
      "25 0.00800829486338978\n",
      "26 0.00759230512526528\n",
      "27 0.007212397527619265\n",
      "28 0.006870734987318536\n",
      "29 0.006568355207729223\n",
      "30 0.0062863756705925184\n",
      "31 0.00602724631946705\n",
      "32 0.005790229500575511\n",
      "33 0.005571400609437411\n",
      "34 0.005368704120414425\n",
      "35 0.005181012841428504\n",
      "36 0.005009607231980752\n",
      "37 0.0048494635739540215\n",
      "38 0.004699496520665066\n",
      "39 0.00455601971547861\n",
      "40 0.004421539122762565\n",
      "41 0.0042958531463021775\n",
      "42 0.004176458738436576\n",
      "43 0.00406365516173183\n",
      "44 0.003958183155315813\n",
      "45 0.0038572228599388775\n",
      "46 0.0037629322521199426\n",
      "47 0.003671721993584637\n",
      "48 0.003585904794934585\n",
      "49 0.003503173252600367\n",
      "50 0.0034251815526059083\n",
      "51 0.0033498974770568317\n",
      "52 0.003278151282836839\n",
      "53 0.00320993034730652\n",
      "54 0.0031450081875839505\n",
      "55 0.003081759442735145\n",
      "56 0.0030210849020795264\n",
      "57 0.0029636240829149433\n",
      "58 0.002908107633128538\n",
      "59 0.002854242537880432\n",
      "60 0.002803221996506941\n",
      "61 0.002753841774001487\n",
      "62 0.0027059123503990878\n",
      "63 0.0026593865316259318\n",
      "64 0.002615143557283325\n",
      "65 0.0025719879298640516\n",
      "66 0.002530370797918892\n",
      "67 0.0024898048866279473\n",
      "68 0.002450583417124854\n",
      "69 0.002412927110254259\n",
      "70 0.0023761652720073064\n",
      "71 0.002341013839279503\n",
      "72 0.0023063907097122193\n",
      "73 0.002273116783247737\n",
      "74 0.0022407925756573023\n",
      "75 0.002209385029553263\n",
      "76 0.0021787170422407206\n",
      "77 0.002148876397916917\n",
      "78 0.0021198529250219533\n",
      "79 0.0020919812393438036\n",
      "80 0.002064732119779895\n",
      "81 0.0020383331088129723\n",
      "82 0.002012390325839033\n",
      "83 0.001987321933255957\n",
      "84 0.001962718029463099\n",
      "85 0.0019387427831550426\n",
      "86 0.0019153824601875222\n",
      "87 0.0018924272127309088\n",
      "88 0.0018700180405453461\n",
      "89 0.0018483003806982364\n",
      "90 0.0018270925228002048\n",
      "91 0.0018064101921540301\n",
      "92 0.0017860786633708797\n",
      "93 0.0017661708795635835\n",
      "94 0.001746950248076762\n",
      "95 0.0017281761009199875\n",
      "96 0.0017096930449264905\n",
      "97 0.0016917145124199094\n",
      "98 0.001674050571392464\n",
      "99 0.0016568389213151575\n"
     ]
    }
   ],
   "source": [
    "for k in range(100):\n",
    "\n",
    "    #Forward pass:\n",
    "    predection = [m(x) for x in xs]\n",
    "    totalLoss = sum((y_out - y_target) ** 2 for y_target, y_out in zip(targetOuts, predection))\n",
    "\n",
    "    #Backward pass:\n",
    "    for p in m.parameters():        #zeroing the grad in each iteration\n",
    "        p.grad = 0\n",
    "        \n",
    "    totalLoss.backward()\n",
    "\n",
    "    #Update rule:\n",
    "    for p in m.parameters():\n",
    "        p.data += -0.1 * p.grad\n",
    "        \n",
    "    print(k, totalLoss.data)"
   ]
  },
  {
   "cell_type": "code",
   "execution_count": 23,
   "metadata": {},
   "outputs": [
    {
     "name": "stdout",
     "output_type": "stream",
     "text": [
      "[Value(data=0.9881451339673316), Value(data=0.9881443127633457), Value(data=-0.9785737663144475), Value(data=-0.9697236022145737)]\n"
     ]
    }
   ],
   "source": [
    "print(predection)\n",
    "\n",
    "#our prediciton gave us the results we expected!"
   ]
  },
  {
   "cell_type": "code",
   "execution_count": 24,
   "metadata": {},
   "outputs": [
    {
     "name": "stdout",
     "output_type": "stream",
     "text": [
      "Value(data=0.9881774956176458)\n"
     ]
    }
   ],
   "source": [
    "another_x = [6, 2.1, 5]\n",
    "\n",
    "#Forward pass:\n",
    "predection = m(another_x)\n",
    "\n",
    "print(predection)\n",
    "\n",
    "#the new datapoint seems to be classified as expected"
   ]
  },
  {
   "cell_type": "markdown",
   "metadata": {},
   "source": [
    "### More in-depth testing"
   ]
  },
  {
   "cell_type": "code",
   "execution_count": 27,
   "metadata": {},
   "outputs": [
    {
     "data": {
      "image/png": "[encoded data removed]",
      "text/plain": [
       "<Figure size 640x480 with 1 Axes>"
      ]
     },
     "metadata": {},
     "output_type": "display_data"
    }
   ],
   "source": [
    "import matplotlib.pyplot as plt\n",
    "import numpy as np\n",
    "\n",
    "# Generate dataset\n",
    "np.random.seed(0)\n",
    "n_samples = 100\n",
    "X = np.random.randn(n_samples, 2)\n",
    "Y = np.logical_xor(X[:, 0] > 0, X[:, 1] > 0).astype(int) * 2 - 1  # labels: -1 for red, 1 for blue\n",
    "\n",
    "# Plot dataset\n",
    "plt.scatter(X[Y == 1][:, 0], X[Y == 1][:, 1], color='blue', label='Blue class')\n",
    "plt.scatter(X[Y == -1][:, 0], X[Y == -1][:, 1], color='red', label='Red class')\n",
    "plt.legend()\n",
    "plt.show()\n"
   ]
  },
  {
   "cell_type": "code",
   "execution_count": 31,
   "metadata": {},
   "outputs": [
    {
     "name": "stdout",
     "output_type": "stream",
     "text": [
      "Epoch 0, Loss: 100.9995\n",
      "Epoch 100, Loss: 3.3808\n",
      "Epoch 200, Loss: 0.2446\n",
      "Epoch 300, Loss: 0.1266\n",
      "Epoch 400, Loss: 0.0847\n",
      "Epoch 500, Loss: 0.0628\n",
      "Epoch 600, Loss: 0.0501\n",
      "Epoch 700, Loss: 0.0414\n",
      "Epoch 800, Loss: 0.0350\n",
      "Epoch 900, Loss: 0.0299\n",
      "Training completed.\n"
     ]
    }
   ],
   "source": [
    "# Convert dataset to your custom Value class\n",
    "data = [ [Value(x[0]), Value(x[1])] for x in X]\n",
    "targets = Y\n",
    "\n",
    "# Initialize the MLP\n",
    "mlp = MLP(2, [4, 4, 1])\n",
    "\n",
    "# Training loop\n",
    "for epoch in range(1000):\n",
    "    # Forward pass\n",
    "    predictions = [mlp(x) for x in data]\n",
    "    loss = sum((pred - y) ** 2 for pred, y in zip(predictions, targets))\n",
    "    \n",
    "    # Zero gradients\n",
    "    for p in mlp.parameters():\n",
    "        p.grad = 0.0\n",
    "    \n",
    "    # Backward pass\n",
    "    loss.backward()\n",
    "    \n",
    "    # Update parameters\n",
    "    for p in mlp.parameters():\n",
    "        p.data -= 0.01 * p.grad\n",
    "    \n",
    "    if epoch % 100 == 0:\n",
    "        print(f\"Epoch {epoch}, Loss: {loss.data:.4f}\")\n",
    "\n",
    "print(\"Training completed.\")"
   ]
  },
  {
   "cell_type": "code",
   "execution_count": 33,
   "metadata": {},
   "outputs": [
    {
     "data": {
      "image/png": "[encoded data removed]",
      "text/plain": [
       "<Figure size 640x480 with 1 Axes>"
      ]
     },
     "metadata": {},
     "output_type": "display_data"
    }
   ],
   "source": [
    "# Create a mesh grid for visualization\n",
    "x_min, x_max = X[:, 0].min() - 1, X[:, 0].max() + 1\n",
    "y_min, y_max = X[:, 1].min() - 1, X[:, 1].max() + 1\n",
    "xx, yy = np.meshgrid(np.arange(x_min, x_max, 0.1),\n",
    "                     np.arange(y_min, y_max, 0.1))\n",
    "\n",
    "# Predict on the mesh grid\n",
    "Z = np.array([mlp([Value(x), Value(y)]).data for x, y in np.c_[xx.ravel(), yy.ravel()]])\n",
    "Z = Z.reshape(xx.shape)\n",
    "\n",
    "# Plot decision boundary\n",
    "plt.contourf(xx, yy, Z, levels=[-1, 0, 1], colors=['red', 'blue'], alpha=0.3)\n",
    "plt.scatter(X[Y == 1][:, 0], X[Y == 1][:, 1], color='blue', label='Blue class')\n",
    "plt.scatter(X[Y == -1][:, 0], X[Y == -1][:, 1], color='red', label='Red class')\n",
    "plt.legend()\n",
    "plt.show()\n"
   ]
  },
  {
   "cell_type": "code",
   "execution_count": 35,
   "metadata": {},
   "outputs": [
    {
     "name": "stdout",
     "output_type": "stream",
     "text": [
      "Input: [2.0, 2.5], Output: -0.9954\n",
      "Input: [-1.0, -1.5], Output: -0.9994\n",
      "Input: [0.5, -0.5], Output: 0.9910\n",
      "Input: [-2.5, 1.0], Output: 0.9990\n"
     ]
    }
   ],
   "source": [
    "# Define new datapoints to test\n",
    "new_points = [\n",
    "    [2.0, 2.5],\n",
    "    [-1.0, -1.5],\n",
    "    [0.5, -0.5],\n",
    "    [-2.5, 1.0]\n",
    "]\n",
    "\n",
    "# Convert new points to your custom Value class\n",
    "new_data = [[Value(x[0]), Value(x[1])] for x in new_points]\n",
    "\n",
    "# Use the trained MLP to predict the outputs for the new datapoints\n",
    "new_predictions = [mlp(x) for x in new_data]\n",
    "\n",
    "# Print the predictions\n",
    "for point, pred in zip(new_points, new_predictions):\n",
    "    print(f\"Input: {point}, Output: {pred.data:.4f}\")\n"
   ]
  },
  {
   "cell_type": "code",
   "execution_count": 36,
   "metadata": {},
   "outputs": [
    {
     "data": {
      "image/png": "[encoded data removed]",
      "text/plain": [
       "<Figure size 640x480 with 1 Axes>"
      ]
     },
     "metadata": {},
     "output_type": "display_data"
    }
   ],
   "source": [
    "# Create a mesh grid for visualization\n",
    "x_min, x_max = X[:, 0].min() - 1, X[:, 0].max() + 1\n",
    "y_min, y_max = X[:, 1].min() - 1, X[:, 1].max() + 1\n",
    "xx, yy = np.meshgrid(np.arange(x_min, x_max, 0.1),\n",
    "                     np.arange(y_min, y_max, 0.1))\n",
    "\n",
    "# Predict on the mesh grid\n",
    "Z = np.array([mlp([Value(x), Value(y)]).data for x, y in np.c_[xx.ravel(), yy.ravel()]])\n",
    "Z = Z.reshape(xx.shape)\n",
    "\n",
    "# Plot decision boundary\n",
    "plt.contourf(xx, yy, Z, levels=[-1, 0, 1], colors=['red', 'blue'], alpha=0.3)\n",
    "plt.scatter(X[Y == 1][:, 0], X[Y == 1][:, 1], color='blue', label='Blue class')\n",
    "plt.scatter(X[Y == -1][:, 0], X[Y == -1][:, 1], color='red', label='Red class')\n",
    "\n",
    "# Plot new datapoints\n",
    "new_points = np.array(new_points)legend\n",
    "plt.scatter(new_points[:, 0], new_points[:, 1], color='green', label='New points', marker='x')\n",
    "\n",
    "plt.legend()\n",
    "plt.show()\n"
   ]
  }
 ],
 "metadata": {
  "kernelspec": {
   "display_name": "Python 3",
   "language": "python",
   "name": "python3"
  },
  "language_info": {
   "codemirror_mode": {
    "name": "ipython",
    "version": 3
   },
   "file_extension": ".py",
   "mimetype": "text/x-python",
   "name": "python",
   "nbconvert_exporter": "python",
   "pygments_lexer": "ipython3",
   "version": "3.12.4"
  }
 },
 "nbformat": 4,
 "nbformat_minor": 2
}
